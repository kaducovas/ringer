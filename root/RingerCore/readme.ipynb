{
 "cells": [
  {
   "cell_type": "markdown",
   "metadata": {},
   "source": [
    "# Ringer framework: RingerCore package\n",
    "\n",
    "This package contains a set of base functionalities for the Ringer framework and its packages. The contents are considered implementation details and this documentation is provided for developers that use this package.\n"
   ]
  },
  {
   "cell_type": "markdown",
   "metadata": {},
   "source": [
    "<h1 id=\"tocheading\">Table of Contents</h1>\n",
    "<div id=\"toc\"></div>"
   ]
  },
  {
   "cell_type": "markdown",
   "metadata": {},
   "source": [
    "# Installation\n",
    "\n",
    "This package cannot be installed by itself. Consider installing one of the RootCore projects using this package:\n",
    "\n",
    " - [RingerTuning](https://github.com/wsfreund/RingerTuning) [recommended]: this project contains only the packages needed for tuning the discriminators;\n",
    " - [RingerProject](https://github.com/joaoVictorPinto/RingerProject): Use this git repository, however, if you want to install all packages related to the Ringer algorithm."
   ]
  },
  {
   "cell_type": "markdown",
   "metadata": {},
   "source": [
    "## Compile time flags\n",
    "\n",
    "Currently, it is available the following flag:\n",
    "\n",
    "- `--with-ringercore-dbg-level`: When specified, it will be compiled on debug mode."
   ]
  },
  {
   "cell_type": "markdown",
   "metadata": {},
   "source": [
    "# Package Organization\n",
    "\n",
    "The package is organized as a standard RootCore package, namely:"
   ]
  },
  {
   "cell_type": "code",
   "execution_count": 1,
   "metadata": {
    "collapsed": false,
    "hide_input": true
   },
   "outputs": [
    {
     "name": "stdout",
     "output_type": "stream",
     "text": [
      "Module '/afs/cern.ch/user/w/wsfreund/Ringer/xAODRingerOfflinePorting/RingerTPFrameWork/RingerCore' folders are:\n",
      "./RingerCore\n",
      "./cmt\n",
      "./python\n",
      "./Root\n"
     ]
    }
   ],
   "source": [
    "%%bash\n",
    "echo \"Module '$(pwd)' folders are:\"\n",
    "find -L . -type d -maxdepth 1 -not -name \".*\""
   ]
  },
  {
   "cell_type": "markdown",
   "metadata": {},
   "source": [
    "Most of the provided functionalities are written in python. However, a simple adaptation of the Athena framework logging system is also available to be used in C++. Next, we enter in details about what is provided by the package."
   ]
  },
  {
   "cell_type": "markdown",
   "metadata": {},
   "source": [
    "## Python provided functionalities\n",
    "\n",
    "The package contains the following python modules:"
   ]
  },
  {
   "cell_type": "code",
   "execution_count": 2,
   "metadata": {
    "collapsed": false,
    "hide_input": true
   },
   "outputs": [
    {
     "name": "stdout",
     "output_type": "stream",
     "text": [
      "./python/LimitedTypeList.py\n",
      "./python/argparse.py\n",
      "./python/Logger.py\n",
      "./python/util.py\n",
      "./python/Parser.py\n",
      "./python/OldLogger.py\n",
      "./python/npConstants.py\n",
      "./python/FileIO.py\n",
      "./python/LoopingBounds.py\n"
     ]
    }
   ],
   "source": [
    "%%bash\n",
    "find -L ./python -maxdepth 2 -mindepth 1 -not -name \"*.pyc\" -a -not -name \"__init__.py\""
   ]
  },
  {
   "cell_type": "markdown",
   "metadata": {},
   "source": [
    "The `argparse` is the python standard argparse module, but it is available to be used on python 2.6 releases. The `OldLogger` provides compatibility with legacy files. More details about the other modules are given below."
   ]
  },
  {
   "cell_type": "markdown",
   "metadata": {},
   "source": [
    "### LimitedTypeList\n",
    "\n",
    "The `LimitedTypeList` is a class factory that create containers very similar to lists, however being limited to accept objects that inherit of certain types. When it is attempted to add an object of other type, an exception of type `NotAllowedType` is thrown. Consider the example:\n"
   ]
  },
  {
   "cell_type": "code",
   "execution_count": 3,
   "metadata": {
    "collapsed": false
   },
   "outputs": [
    {
     "name": "stdout",
     "output_type": "stream",
     "text": [
      "[1, 2, 3, 4]\n",
      "[1, 2, 3, 4, 5, 6]\n",
      "[1, 2, 3, 4, 5, 6, 7]\n"
     ]
    },
    {
     "ename": "NotAllowedType",
     "evalue": "Attempted to add to IntList an object (type=<type 'float'>) which is not an instance from the allowedTypes: (<type 'int'>,)!",
     "output_type": "error",
     "traceback": [
      "\u001b[1;31m---------------------------------------------------------------------------\u001b[0m",
      "\u001b[1;31mNotAllowedType\u001b[0m                            Traceback (most recent call last)",
      "\u001b[1;32m<ipython-input-3-ad80b0d5b22e>\u001b[0m in \u001b[0;36m<module>\u001b[1;34m()\u001b[0m\n\u001b[0;32m     10\u001b[0m \u001b[1;32mprint\u001b[0m \u001b[0mintList\u001b[0m\u001b[1;33m\u001b[0m\u001b[0m\n\u001b[0;32m     11\u001b[0m \u001b[1;33m\u001b[0m\u001b[0m\n\u001b[1;32m---> 12\u001b[1;33m \u001b[0mintList\u001b[0m\u001b[1;33m.\u001b[0m\u001b[0mappend\u001b[0m\u001b[1;33m(\u001b[0m\u001b[1;36m8.\u001b[0m\u001b[1;33m)\u001b[0m\u001b[1;33m\u001b[0m\u001b[0m\n\u001b[0m",
      "\u001b[1;32m/afs/cern.ch/user/w/wsfreund/Ringer/xAODRingerOfflinePorting/RingerTPFrameWork/RootCoreBin/python/RingerCore/LimitedTypeList.pyc\u001b[0m in \u001b[0;36m_LimitedTypeList__append\u001b[1;34m(self, var)\u001b[0m\n\u001b[0;32m     57\u001b[0m   \u001b[1;31m# This is default overload for list append, checking if item is accepted\u001b[0m\u001b[1;33m\u001b[0m\u001b[1;33m\u001b[0m\u001b[0m\n\u001b[0;32m     58\u001b[0m   \u001b[1;32mif\u001b[0m \u001b[1;32mnot\u001b[0m \u001b[0misinstance\u001b[0m\u001b[1;33m(\u001b[0m\u001b[0mvar\u001b[0m\u001b[1;33m,\u001b[0m \u001b[0mself\u001b[0m\u001b[1;33m.\u001b[0m\u001b[0m_acceptedTypes\u001b[0m\u001b[1;33m)\u001b[0m\u001b[1;33m:\u001b[0m\u001b[1;33m\u001b[0m\u001b[0m\n\u001b[1;32m---> 59\u001b[1;33m     \u001b[1;32mraise\u001b[0m \u001b[0mNotAllowedType\u001b[0m\u001b[1;33m(\u001b[0m \u001b[0mself\u001b[0m\u001b[1;33m,\u001b[0m \u001b[0mvar\u001b[0m\u001b[1;33m,\u001b[0m \u001b[0mself\u001b[0m\u001b[1;33m.\u001b[0m\u001b[0m_acceptedTypes\u001b[0m\u001b[1;33m)\u001b[0m\u001b[1;33m\u001b[0m\u001b[0m\n\u001b[0m\u001b[0;32m     60\u001b[0m   \u001b[0mlist\u001b[0m\u001b[1;33m.\u001b[0m\u001b[0mappend\u001b[0m\u001b[1;33m(\u001b[0m\u001b[0mself\u001b[0m\u001b[1;33m,\u001b[0m\u001b[0mvar\u001b[0m\u001b[1;33m)\u001b[0m\u001b[1;33m\u001b[0m\u001b[0m\n\u001b[0;32m     61\u001b[0m \u001b[1;33m\u001b[0m\u001b[0m\n",
      "\u001b[1;31mNotAllowedType\u001b[0m: Attempted to add to IntList an object (type=<type 'float'>) which is not an instance from the allowedTypes: (<type 'int'>,)!"
     ]
    }
   ],
   "source": [
    "from RingerCore.LimitedTypeList import LimitedTypeList\n",
    "IntList = LimitedTypeList(\n",
    "    \"IntList\", (),\n",
    "    {'_acceptedTypes' : (int,)})\n",
    "intList = IntList([1,2,3,4])\n",
    "print intList\n",
    "intList += [5,6]\n",
    "print intList\n",
    "intList.append(7)\n",
    "print intList\n",
    "\n",
    "intList.append(8.)"
   ]
  },
  {
   "cell_type": "markdown",
   "metadata": {},
   "source": [
    "In the previous, we used the __init__ method for building the `IntList`. We repeat previous example, but now using a more readable code:"
   ]
  },
  {
   "cell_type": "code",
   "execution_count": 4,
   "metadata": {
    "collapsed": false
   },
   "outputs": [
    {
     "name": "stdout",
     "output_type": "stream",
     "text": [
      "[1.0, 2.0, 3.0, 4.0]\n"
     ]
    },
    {
     "ename": "NotAllowedType",
     "evalue": "Attempted to add to FloatList an object (type=<type 'int'>) which is not an instance from the allowedTypes: (<type 'float'>,)!",
     "output_type": "error",
     "traceback": [
      "\u001b[1;31m---------------------------------------------------------------------------\u001b[0m",
      "\u001b[1;31mNotAllowedType\u001b[0m                            Traceback (most recent call last)",
      "\u001b[1;32m<ipython-input-4-48ceeba11e54>\u001b[0m in \u001b[0;36m<module>\u001b[1;34m()\u001b[0m\n\u001b[0;32m      7\u001b[0m \u001b[0mfloatList\u001b[0m \u001b[1;33m=\u001b[0m \u001b[0mFloatList\u001b[0m\u001b[1;33m(\u001b[0m\u001b[1;33m[\u001b[0m\u001b[1;36m1.\u001b[0m\u001b[1;33m,\u001b[0m\u001b[1;36m2.\u001b[0m\u001b[1;33m,\u001b[0m\u001b[1;36m3.\u001b[0m\u001b[1;33m,\u001b[0m\u001b[1;36m4.\u001b[0m\u001b[1;33m]\u001b[0m\u001b[1;33m)\u001b[0m\u001b[1;33m\u001b[0m\u001b[0m\n\u001b[0;32m      8\u001b[0m \u001b[1;32mprint\u001b[0m \u001b[0mfloatList\u001b[0m\u001b[1;33m\u001b[0m\u001b[0m\n\u001b[1;32m----> 9\u001b[1;33m \u001b[0mfloatList\u001b[0m\u001b[1;33m.\u001b[0m\u001b[0mappend\u001b[0m\u001b[1;33m(\u001b[0m\u001b[1;36m5\u001b[0m\u001b[1;33m)\u001b[0m\u001b[1;33m\u001b[0m\u001b[0m\n\u001b[0m\u001b[0;32m     10\u001b[0m \u001b[1;32mprint\u001b[0m \u001b[0mfloatList\u001b[0m\u001b[1;33m\u001b[0m\u001b[0m\n",
      "\u001b[1;32m/afs/cern.ch/user/w/wsfreund/Ringer/xAODRingerOfflinePorting/RingerTPFrameWork/RootCoreBin/python/RingerCore/LimitedTypeList.pyc\u001b[0m in \u001b[0;36m_LimitedTypeList__append\u001b[1;34m(self, var)\u001b[0m\n\u001b[0;32m     57\u001b[0m   \u001b[1;31m# This is default overload for list append, checking if item is accepted\u001b[0m\u001b[1;33m\u001b[0m\u001b[1;33m\u001b[0m\u001b[0m\n\u001b[0;32m     58\u001b[0m   \u001b[1;32mif\u001b[0m \u001b[1;32mnot\u001b[0m \u001b[0misinstance\u001b[0m\u001b[1;33m(\u001b[0m\u001b[0mvar\u001b[0m\u001b[1;33m,\u001b[0m \u001b[0mself\u001b[0m\u001b[1;33m.\u001b[0m\u001b[0m_acceptedTypes\u001b[0m\u001b[1;33m)\u001b[0m\u001b[1;33m:\u001b[0m\u001b[1;33m\u001b[0m\u001b[0m\n\u001b[1;32m---> 59\u001b[1;33m     \u001b[1;32mraise\u001b[0m \u001b[0mNotAllowedType\u001b[0m\u001b[1;33m(\u001b[0m \u001b[0mself\u001b[0m\u001b[1;33m,\u001b[0m \u001b[0mvar\u001b[0m\u001b[1;33m,\u001b[0m \u001b[0mself\u001b[0m\u001b[1;33m.\u001b[0m\u001b[0m_acceptedTypes\u001b[0m\u001b[1;33m)\u001b[0m\u001b[1;33m\u001b[0m\u001b[0m\n\u001b[0m\u001b[0;32m     60\u001b[0m   \u001b[0mlist\u001b[0m\u001b[1;33m.\u001b[0m\u001b[0mappend\u001b[0m\u001b[1;33m(\u001b[0m\u001b[0mself\u001b[0m\u001b[1;33m,\u001b[0m\u001b[0mvar\u001b[0m\u001b[1;33m)\u001b[0m\u001b[1;33m\u001b[0m\u001b[0m\n\u001b[0;32m     61\u001b[0m \u001b[1;33m\u001b[0m\u001b[0m\n",
      "\u001b[1;31mNotAllowedType\u001b[0m: Attempted to add to FloatList an object (type=<type 'int'>) which is not an instance from the allowedTypes: (<type 'float'>,)!"
     ]
    }
   ],
   "source": [
    "from RingerCore.LimitedTypeList import LimitedTypeList\n",
    "\n",
    "class FloatList:\n",
    "    __metaclass__ = LimitedTypeList\n",
    "    _acceptedTypes = (float,)\n",
    "    \n",
    "floatList = FloatList([1.,2.,3.,4.])\n",
    "print floatList\n",
    "floatList.append(5)\n",
    "print floatList"
   ]
  },
  {
   "cell_type": "markdown",
   "metadata": {},
   "source": [
    "More complex classes can be created, with their own methods. Examples can be found in the [TuningTools.PreProc](https://github.com/wsfreund/TuningTools/blob/master/python/PreProc.py) module."
   ]
  },
  {
   "cell_type": "markdown",
   "metadata": {},
   "source": [
    "### Logger\n",
    "\n",
    "This module provides logging capabilities that emulates Athena messaging system. The same levels provided by the Athena logging system are available (in decreasing verbosity order: VERBOSE, DEBUG, INFO, WARNING, FATAL).\n",
    "\n",
    "The logging level is determined via the `LoggingLevel` \"enumeration\" class. It is an [`EnumStringification`](#EnumStringification) class, so the values can be easily parsed when obtained from the command line.\n",
    "\n",
    "Meanwhile the `Logger` class adds the `self._logger` property and the level property for its inherited classes. A logger object can also be retrieved via the class method `Logger.getModuleLogger`, which makes possible the usage of `Logger` objects outside class scopes. The following example illustrates both usage cases. \n",
    "\n",
    "*The logging system is also compatible with IPython notebook (jupyter), as shown in the next example. Please note, however, that the jupyter messaging system causes miss-synchronization with the print command and the messages captured from the logging module.*\n"
   ]
  },
  {
   "cell_type": "code",
   "execution_count": 5,
   "metadata": {
    "collapsed": false
   },
   "outputs": [
    {
     "name": "stdout",
     "output_type": "stream",
     "text": [
      "Py.mainLogger                           INFO Starting example printing an INFO message.\n",
      "Py.mainLogger                        WARNING Previous message was ignored because logger level is set to INFO.\n",
      "Py.mainLogger                          DEBUG A message not ignored anymore by the messaging system.\n",
      "Py.mainLogger                        VERBOSE Verbose messages can also be used.\n",
      "Py.mainLogger                          FATAL As well as fatal messages.\n",
      "Py.MyClass                              INFO Input value was: 2\n",
      "Py.mainLogger                           INFO Current output level is: INFO\n",
      "Py.mainLogger                           INFO Changed mainLogger output level to: VERBOSE\n",
      "Py.MyClass                           VERBOSE Started executing MyClass.fcn(2)\n",
      "Py.MyClass                              INFO Input value was: 2\n",
      "Py.MyClass                           VERBOSE Successfully finished executing MyClass.fcn(2)\n",
      "Current output level is:  INFO\n",
      "Changed mainLogger output level to:  VERBOSE\n"
     ]
    }
   ],
   "source": [
    "from RingerCore.Logger import LoggingLevel, Logger\n",
    "\n",
    "mainLogger = Logger.getModuleLogger(\"mainLogger\", LoggingLevel.INFO)\n",
    "\n",
    "mainLogger.info(\"Starting example printing an INFO message.\")\n",
    "mainLogger.debug(\"A message ignored by the messaging system.\")\n",
    "mainLogger.warning(\"Previous message was ignored because logger level is set to INFO.\")\n",
    "\n",
    "mainLogger.level = LoggingLevel.DEBUG\n",
    "\n",
    "mainLogger.debug(\"A message not ignored anymore by the messaging system.\")\n",
    "mainLogger.level = LoggingLevel.VERBOSE\n",
    "mainLogger.verbose(\"Verbose messages can also be used.\")\n",
    "mainLogger.fatal(\"As well as fatal messages.\")\n",
    "\n",
    "class MyClass( Logger ):\n",
    "    def __init__(self, **kw):\n",
    "        Logger.__init__(self, kw)\n",
    "    def fcn(self, input_):\n",
    "        self._verbose(\"Started executing MyClass.fcn(%d)\", input_)\n",
    "        self._info(\"Input value was: %d\", input_)\n",
    "        self._verbose(\"Successfully finished executing MyClass.fcn(%d)\", input_)\n",
    "        \n",
    "myInst = MyClass()\n",
    "myInst.fcn(2)\n",
    "mainLogger.info('Current output level is: %s', myInst.level)\n",
    "print 'Current output level is: ', myInst.level\n",
    "myInst.level = LoggingLevel.VERBOSE\n",
    "mainLogger.info('Changed mainLogger output level to: %s', myInst.level)\n",
    "print 'Changed mainLogger output level to: ', myInst.level\n",
    "myInst.fcn(2)"
   ]
  },
  {
   "cell_type": "markdown",
   "metadata": {},
   "source": [
    "### LoopingBounds\n",
    "\n",
    "The `LoopingBounds` module provides the following classes:"
   ]
  },
  {
   "cell_type": "code",
   "execution_count": 6,
   "metadata": {
    "collapsed": false,
    "hide_input": true
   },
   "outputs": [
    {
     "name": "stdout",
     "output_type": "stream",
     "text": [
      "['LoopingBounds', 'MatlabLoopingBounds', 'PythonLoopingBounds', 'SeqLoopingBounds']\n"
     ]
    }
   ],
   "source": [
    "from RingerCore import LoopingBounds\n",
    "import inspect\n",
    "print [name for name, obj in inspect.getmembers(LoopingBounds, inspect.isclass) if obj.__module__ == \"RingerCore.LoopingBounds\"]"
   ]
  },
  {
   "cell_type": "markdown",
   "metadata": {},
   "source": [
    "The `LoopingBounds` class is the base class for the other three classes. The `MatlabLoopingBounds` and `SeqLoopingBounds` are the same object and represents the list of indexes delimiting a looping sequence in the matlab (e.g. the `0:2:8` matlab notation, exchanging the `:` by `,` in the its constructor) and the last one emulates the unix `seq` command, which results in the same sequence from the matlab.\n",
    "\n",
    "The `PythonLoopingBounds`, however, results in different looping indexes, when considering the same bounds used in the Matlab or seq commands, as it emulates the python `range` function.\n",
    "\n",
    "Use the module functions `transformToMatlabBounds` or `transformToPythonBounds` to transform the looping bounds objects to the respective types without changing the looping sequence.\n",
    "\n",
    "The main usage of these module is to let user inform the looping index sequence however it prefers, homogenizing code. It can also be used to reduce file sizes when saving and object, as the raw object can be saved with only the arguments provided to the `LoopingBounds` classes.\n",
    "\n",
    "Next follows an example showing these behaviors.\n"
   ]
  },
  {
   "cell_type": "code",
   "execution_count": 7,
   "metadata": {
    "collapsed": false
   },
   "outputs": [
    {
     "name": "stdout",
     "output_type": "stream",
     "text": [
      "A matlab list as specified 1:3\n",
      "<class 'RingerCore.LoopingBounds.MatlabLoopingBounds'>\n",
      "[1, 2, 3]\n",
      "Python range(3)\n",
      "<class 'RingerCore.LoopingBounds.PythonLoopingBounds'>\n",
      "[0, 1, 2]\n",
      "Transforming python range(3) to MatlabLoopingBounds instance\n",
      "<class 'RingerCore.LoopingBounds.MatlabLoopingBounds'>\n",
      "[0, 1, 2]\n"
     ]
    }
   ],
   "source": [
    "from RingerCore.LoopingBounds import *\n",
    "\n",
    "print 'A matlab list as specified 1:3'\n",
    "matlab1 = MatlabLoopingBounds(3)\n",
    "print type(matlab1)\n",
    "print matlab1.list()\n",
    "\n",
    "print 'Python range(3)'\n",
    "python1 = PythonLoopingBounds(3)\n",
    "print type(python1)\n",
    "print python1.list()\n",
    "\n",
    "print 'Transforming python range(3) to MatlabLoopingBounds instance'\n",
    "matlab_from_python1 = transformToMatlabBounds(python1)\n",
    "print type(matlab_from_python1)\n",
    "print matlab_from_python1.list()"
   ]
  },
  {
   "cell_type": "code",
   "execution_count": 8,
   "metadata": {
    "collapsed": false
   },
   "outputs": [
    {
     "name": "stdout",
     "output_type": "stream",
     "text": [
      "Matlab list -4:-2:-8\n",
      "<class 'RingerCore.LoopingBounds.MatlabLoopingBounds'>\n",
      "[-4, -6, -8]\n",
      "Transformed into PythonLoopingBounds instance\n",
      "<class 'RingerCore.LoopingBounds.PythonLoopingBounds'>\n",
      "[-4, -6, -8]\n",
      "Python range(-4,-2,-8)\n",
      "<class 'RingerCore.LoopingBounds.PythonLoopingBounds'>\n",
      "[-4, -6]\n",
      "Transformed into MatlabLoopingBounds instance\n",
      "<class 'RingerCore.LoopingBounds.MatlabLoopingBounds'>\n",
      "[-4, -6]\n"
     ]
    }
   ],
   "source": [
    "# Work with more complex objects:\n",
    "print 'Matlab list -4:-2:-8'\n",
    "matlab2 = MatlabLoopingBounds(-4,-2,-8)\n",
    "print type(matlab2)\n",
    "print matlab2.list()\n",
    "\n",
    "python_from_matlab2 = transformToPythonBounds(matlab2)\n",
    "print 'Transformed into PythonLoopingBounds instance'\n",
    "print type(python_from_matlab2)\n",
    "print python_from_matlab2.list()\n",
    "\n",
    "python2 = PythonLoopingBounds(-4,-2,-8)\n",
    "print 'Python range(-4,-2,-8)'\n",
    "print type(python2)\n",
    "print python2.list()\n",
    "\n",
    "matlab_from_python2 = transformToMatlabBounds(python2)\n",
    "print 'Transformed into MatlabLoopingBounds instance'\n",
    "print type(matlab_from_python2)\n",
    "print matlab_from_python2.list()"
   ]
  },
  {
   "cell_type": "code",
   "execution_count": 9,
   "metadata": {
    "collapsed": false
   },
   "outputs": [
    {
     "name": "stdout",
     "output_type": "stream",
     "text": [
      "It is also possible to retrieve the original entered arguments:\n",
      "[-4, -2, -8]\n",
      "Python range(-4,-2,-8) is string represented as:  l-006.u-004\n",
      "The string can also be formated to include some identification flag for the bounds, e.g.:\n",
      "PythonLoopingBounds(5,10).formattedString('s'): sl0005.su0009\n"
     ]
    }
   ],
   "source": [
    "print 'It is also possible to retrieve the original entered arguments:'\n",
    "print python2.getOriginalVec()\n",
    "print 'Python range(-4,-2,-8) is string represented as: ', str(python2)\n",
    "\n",
    "print 'The string can also be formated to include some identification flag for the bounds, e.g.:'\n",
    "print \"PythonLoopingBounds(5,10).formattedString('s'):\", PythonLoopingBounds(5,10).formattedString('s')"
   ]
  },
  {
   "cell_type": "markdown",
   "metadata": {},
   "source": [
    "### Parser\n",
    "\n",
    "Provides default parsers to be used in order to create python executables. Currently, it provides the following parsers:\n",
    "\n",
    "- gridParser: Provides most argument options as the panda executable command `prun`, but without specifying an input or an output;\n",
    "- inGridParser: Extends `gridParser` to allow user to also specify input dataset;\n",
    "- outGridParser: Extends `gridParser` to allow user to also specify output dataset;\n",
    "- ioGridParser: Extends `gridParser` to allow user to also specify both input and output datasets;\n",
    "- loggerParser: Provides logging options to be provided to the `LoggingLevel` class and to be distributed over the `Logger` instances.\n",
    "\n",
    "Consider, for instance, that it is wanted to create a python module that can be executed by the user and that it can capture the gridParser and loggerParser arguments. This can be done as follows:"
   ]
  },
  {
   "cell_type": "code",
   "execution_count": 10,
   "metadata": {
    "collapsed": false
   },
   "outputs": [
    {
     "name": "stdout",
     "output_type": "stream",
     "text": [
      "usage: __main__.py [--site [GRID_SITE]] [--excludedSite [GRID_EXCLUDEDSITE]]\n",
      "                   [--debug] [--nJobs [GRID_NJOBS]]\n",
      "                   [--excludeFile [GRID_EXCLUDEFILE]] [--disableAutoRetry]\n",
      "                   [--extFile [GRID_EXTFILE]]\n",
      "                   [--maxNFilesPerJob [GRID_MAXNFILESPERJOB]]\n",
      "                   [--cloud [GRID_CLOUD]] [--nGBPerJob [GRID_NGBPERJOB]]\n",
      "                   [--skipScout] [--memory GRID_MEMORY] [--long]\n",
      "                   [--useNewCode] [--dry-run] [--allowTaskDuplication]\n",
      "                   [-itar [InTarBall] | -otar [OutTarBall]]\n",
      "                   [--output-level {DEBUG,ERROR,FATAL,INFO,VERBOSE,WARNING}]\n",
      "\n",
      "A parser that provides gridParser and loggerParser arguments.\n",
      "\n",
      "optional arguments:\n",
      "  --site [GRID_SITE]    The site location where the job should run.\n",
      "  --excludedSite [GRID_EXCLUDEDSITE]\n",
      "                        The excluded site location.\n",
      "  --debug               Submit GRID job on debug mode.\n",
      "  --nJobs [GRID_NJOBS]  Number of jobs to submit.\n",
      "  --excludeFile [GRID_EXCLUDEFILE]\n",
      "                        Files to exclude from environment copied to grid.\n",
      "  --disableAutoRetry    Flag to disable auto retrying jobs.\n",
      "  --extFile [GRID_EXTFILE]\n",
      "                        External file to add.\n",
      "  --maxNFilesPerJob [GRID_MAXNFILESPERJOB]\n",
      "                        Maximum number of files per job.\n",
      "  --cloud [GRID_CLOUD]  The cloud where to submit the job.\n",
      "  --nGBPerJob [GRID_NGBPERJOB]\n",
      "                        Maximum number of GB per job.\n",
      "  --skipScout           Flag to disable auto retrying jobs.\n",
      "  --memory GRID_MEMORY  Needed memory to run in MB.\n",
      "  --long                Submit for long queue.\n",
      "  --useNewCode          Flag to disable auto retrying jobs.\n",
      "  --dry-run             Only print grid resulting command, but do not execute\n",
      "                        it. Used for debugging submission.\n",
      "  --allowTaskDuplication\n",
      "                        Flag to disable auto retrying jobs.\n",
      "  -itar [InTarBall], --inTarBall [InTarBall]\n",
      "                        The environemnt tarball for posterior usage.\n",
      "  -otar [OutTarBall], --outTarBall [OutTarBall]\n",
      "                        The environemnt tarball for posterior usage.\n",
      "  --output-level {DEBUG,ERROR,FATAL,INFO,VERBOSE,WARNING}\n",
      "                        The output level for the main logger\n"
     ]
    }
   ],
   "source": [
    "try:\n",
    "  import argparse\n",
    "except ImportError:\n",
    "  from RingerCore import argparse\n",
    "\n",
    "from RingerCore.Parser import loggerParser, gridParser\n",
    "parser = argparse.ArgumentParser(add_help = False,\n",
    "                                 description = 'A parser that provides gridParser and loggerParser arguments.',\n",
    "                                 parents = [gridParser, loggerParser],\n",
    "                                 conflict_handler = 'resolve')\n",
    "\n",
    "parser.print_help()"
   ]
  },
  {
   "cell_type": "markdown",
   "metadata": {},
   "source": [
    "With this combination, many different parsers can be easily created by mixing the provided parsers with parsers providing specific job arguments. Available usage examples can be seen on [`createData.py`](https://github.com/wsfreund/TuningTools/blob/master/scripts/standalone/createData.py), [`createTuningJobFiles.py`](https://github.com/wsfreund/TuningTools/blob/master/scripts/standalone/createTuningJobFiles.py) etc. In some cases, it might be wanted to exclude or modify some of the options available on the default parsers, an example on how to do this can be seen on [`runGRIDtuning.py`](https://github.com/wsfreund/TuningTools/blob/master/scripts/grid_scripts/runGRIDtuning.py).\n",
    "\n",
    "This module also provides some `namespaces` that should be used when parsing arguments using the loggerParser and the grid parsers. In the first case, make sure to pass the `LoggerNamespace` to the parser `parse_args` method. When using the grid parsers, the `GridNamespace` should be used. It provides methods for setting the `bexec`, `exec` job arguments. The `GridNamespace` also inherits from the `LoggerNamespace`, so it can also handle the logger parser arguments. \n"
   ]
  },
  {
   "cell_type": "code",
   "execution_count": 11,
   "metadata": {
    "collapsed": false
   },
   "outputs": [
    {
     "name": "stdout",
     "output_type": "stream",
     "text": [
      "Py.GridNamespace                        INFO Command:\n",
      "prun \\\n",
      "     --exec \\\n",
      "       \"source ./setrootcore.sh; \\\n",
      "         \\$ROOTCOREBIN/user_scripts/SomePackage/some_script.py input_to_the_job;\" \\\n",
      "     --skipScout \\\n",
      "     --excludeFile=\"*.o,*.so,*.a,*.gch\" \\\n",
      "     --excludedSite=ANALY_CERN_CLOUD,ANALY_SLAC,ANALY_CERN_SHORT,ANALY_CONNECT_SHORT,ANALY_BNL_SHORT,ANALY_BNL_EC2E1,ANALY_SWT2_CPB \\\n",
      "     --inDS=user.wsfreund.some.inds \\\n",
      "     --outDS=user.wsfreund.some.outds \\\n",
      "     --outputs=*.root \\\n",
      "     --site=AUTO \\\n",
      "     --skipScout \\\n",
      "\n"
     ]
    }
   ],
   "source": [
    "from RingerCore.Logger import LoggingLevel, Logger\n",
    "logger = Logger.getModuleLogger(\"logger\", LoggingLevel.INFO)\n",
    "\n",
    "from RingerCore.Parser import ioGridParser, GridNamespace\n",
    "\n",
    "args = ioGridParser.parse_args(['--dry-run','--inDS','user.wsfreund.some.inds',\n",
    "                                '--outDS','user.wsfreund.some.outds','--skipScout',\n",
    "                                '--outputs','*.root' ], \n",
    "                               namespace=GridNamespace('prun'))\n",
    "args.setExec(\"\"\"source ./setrootcore.sh;\n",
    "                {someJob} input_to_the_job\n",
    "             \"\"\".format( someJob = \"\\$ROOTCOREBIN/user_scripts/SomePackage/some_script.py\"))\n",
    "\n",
    "args.run_cmd()"
   ]
  },
  {
   "cell_type": "markdown",
   "metadata": {},
   "source": [
    "*Consider taking a look at [`runGRIDtuning.py`](https://github.com/wsfreund/TuningTools/blob/master/scripts/grid_scripts/runGRIDtuning.py) to observe a more detailed working code using `GridNamespace`.*"
   ]
  },
  {
   "cell_type": "markdown",
   "metadata": {},
   "source": [
    "### npConstants\n",
    "\n",
    "This class allows to harmonize numpy default flags. "
   ]
  },
  {
   "cell_type": "code",
   "execution_count": 3,
   "metadata": {
    "collapsed": false
   },
   "outputs": [
    {
     "name": "stdout",
     "output_type": "stream",
     "text": [
      "This class is used by dependent packages to harmonize numpy flags. Currently\n",
      "it can be used obtain armonization in the following information:\n",
      "  - fortran/c representation;\n",
      "    o dtype: retrieves floating point string used on numpy\n",
      "  - dimensions:\n",
      "    o access: access numpy indexes\n",
      "    o shape: return shape using npat and nobs\n",
      "    o odim: retrieves the observations axis index\n",
      "    o pdim: retrieves the patterns axis index\n",
      "  - floating point data type:\n",
      "    o fp_dtype: retrieves floating point dtype used on numpy\n",
      "  - integer data types:\n",
      "    o int_dtype: common integer dtype\n",
      "    o scounter_dtype: short integer dtype to use as counter\n",
      "    o flag_dtype: the integer to use on flags (usually only -1,0,1 are\n",
      "    flagged)\n"
     ]
    }
   ],
   "source": [
    "from RingerCore.npConstants import npConstants\n",
    "import inspect\n",
    "print(inspect.getdoc(npConstants))"
   ]
  },
  {
   "cell_type": "markdown",
   "metadata": {},
   "source": [
    "Several different numpy configurations can be set and changed accordingly, depending on how data should be represented. E.g.:"
   ]
  },
  {
   "cell_type": "code",
   "execution_count": 13,
   "metadata": {
    "collapsed": false
   },
   "outputs": [
    {
     "data": {
      "text/plain": [
       "npConstants(fp_dtype=dtype('float64'),int_dtype=dtype('int64'),scounter_dtype=dtype('uint8'),flag_dtype=dtype('int8'),order=F)"
      ]
     },
     "execution_count": 13,
     "metadata": {},
     "output_type": "execute_result"
    }
   ],
   "source": [
    "from RingerCore.npConstants import npConstants\n",
    "import numpy as np\n",
    "npDefault1 = npConstants( useFortran = True,\n",
    "                          fp_dtype   = np.float64,\n",
    "                          int_dtype  = np.int64 )\n",
    "npDefault1\n"
   ]
  },
  {
   "cell_type": "code",
   "execution_count": 14,
   "metadata": {
    "collapsed": false
   },
   "outputs": [
    {
     "data": {
      "text/plain": [
       "npConstants(fp_dtype=dtype('float32'),int_dtype=dtype('int32'),scounter_dtype=dtype('uint8'),flag_dtype=dtype('int8'),order=C)"
      ]
     },
     "execution_count": 14,
     "metadata": {},
     "output_type": "execute_result"
    }
   ],
   "source": [
    "from RingerCore.npConstants import npConstants\n",
    "import numpy as npb\n",
    "npDefault2 = npConstants( useFortran = False,\n",
    "                          fp_dtype   = np.float32,\n",
    "                          int_dtype  = np.int32 )\n",
    "npDefault2"
   ]
  },
  {
   "cell_type": "code",
   "execution_count": 15,
   "metadata": {
    "collapsed": false
   },
   "outputs": [
    {
     "name": "stdout",
     "output_type": "stream",
     "text": [
      "Using npDefault1\n",
      "[[0 0 0 0]\n",
      " [0 0 0 0]]\n",
      "  C_CONTIGUOUS : False\n",
      "  F_CONTIGUOUS : True\n",
      "  OWNDATA : True\n",
      "  WRITEABLE : True\n",
      "  ALIGNED : True\n",
      "  UPDATEIFCOPY : False\n",
      "int64\n",
      "Accessing pattern index 1:  [0 0 0 0]\n",
      "Accessing observation index 2:  [0 0]\n",
      "=====\n"
     ]
    }
   ],
   "source": [
    "npCurrent = npDefault1\n",
    "\n",
    "print \"Using npDefault1\"\n",
    "zeros = npCurrent.int_zeros(npCurrent.shape(npat=2,nobs=4))\n",
    "print zeros\n",
    "print zeros.flags\n",
    "print zeros.dtype\n",
    "print \"Accessing pattern index 1: \", zeros[npCurrent.access(pidx=1)]\n",
    "print \"Accessing observation index 2: \", zeros[npCurrent.access(oidx=2)]\n",
    "print \"=====\""
   ]
  },
  {
   "cell_type": "code",
   "execution_count": 16,
   "metadata": {
    "collapsed": false
   },
   "outputs": [
    {
     "name": "stdout",
     "output_type": "stream",
     "text": [
      "Using npDefault2\n",
      "[[0 0]\n",
      " [0 0]\n",
      " [0 0]\n",
      " [0 0]]\n",
      "  C_CONTIGUOUS : True\n",
      "  F_CONTIGUOUS : False\n",
      "  OWNDATA : True\n",
      "  WRITEABLE : True\n",
      "  ALIGNED : True\n",
      "  UPDATEIFCOPY : False\n",
      "int32\n",
      "Accessing pattern index 1:  [0 0 0 0]\n",
      "Accessing observation index 2:  [0 0]\n",
      "=====\n"
     ]
    }
   ],
   "source": [
    "npCurrent = npDefault2\n",
    "\n",
    "print \"Using npDefault2\"\n",
    "zeros = npCurrent.int_zeros(npCurrent.shape(npat=2,nobs=4))\n",
    "print zeros\n",
    "print zeros.flags\n",
    "print zeros.dtype\n",
    "print \"Accessing pattern index 1: \", zeros[npCurrent.access(pidx=1)]\n",
    "print \"Accessing observation index 2: \", zeros[npCurrent.access(oidx=2)]\n",
    "print \"=====\""
   ]
  },
  {
   "cell_type": "markdown",
   "metadata": {},
   "source": [
    "### FileIO\n",
    "\n",
    "This module provides three main methods. The `save` and `load` methods which can be used to respectively simplify writing and reading files. They can handle `Pickle` and `numpy` file formats, which might be compressed or not. Consider the following example:"
   ]
  },
  {
   "cell_type": "code",
   "execution_count": 17,
   "metadata": {
    "collapsed": false
   },
   "outputs": [
    {
     "name": "stdout",
     "output_type": "stream",
     "text": [
      "Help on function save in module RingerCore.FileIO:\n",
      "\n",
      "save(o, filename, **kw)\n",
      "    Save an object to disk.\n",
      "\n",
      "Saved \"someList.pic.gz\" file.\n",
      "Saved uncompressed file someList.pic.\n",
      "Saved \"numpy_file\" file.\n",
      "Saved \"numpy_filez\" file.\n",
      "Saved \"numpy_filez_compressed\" file.\n"
     ]
    }
   ],
   "source": [
    "from RingerCore.FileIO import save\n",
    "import numpy as np\n",
    "help(save)\n",
    "\n",
    "# Pickle files\n",
    "someList = [1,2,3,4]\n",
    "outputFile = save(someList,'someList')\n",
    "print 'Saved \"%s\" file.' % outputFile\n",
    "outputFile = save(someList,'someList',compress=False)\n",
    "print 'Saved uncompressed file %s.' % outputFile\n",
    "\n",
    "# Numpy files\n",
    "array = np.array(someList)\n",
    "array2 = np.arange(10)\n",
    "outputFile = save(array,'numpy_file',protocol='save')\n",
    "print 'Saved \"%s\" file.' % outputFile\n",
    "outputFile = save({'array' : array, 'array2' : array2},'numpy_filez',protocol='savez')\n",
    "print 'Saved \"%s\" file.' % outputFile\n",
    "outputFile = save({'array' : array, 'array2' : array2},'numpy_filez_compressed',protocol='savez_compressed')\n",
    "print 'Saved \"%s\" file.' % outputFile"
   ]
  },
  {
   "cell_type": "code",
   "execution_count": 18,
   "metadata": {
    "collapsed": false
   },
   "outputs": [
    {
     "name": "stdout",
     "output_type": "stream",
     "text": [
      "-rw-r--r-- 1 wsfreund zp 112 Mar  6 07:18 numpy_file.npy\n",
      "-rw-r--r-- 1 wsfreund zp 386 Mar  6 07:18 numpy_filez_compressed.npz\n",
      "-rw-r--r-- 1 wsfreund zp 484 Mar  6 07:18 numpy_filez.npz\n",
      "-rw-r--r-- 1 wsfreund zp  16 Mar  6 07:18 someList.pic\n",
      "-rw-r--r-- 1 wsfreund zp  49 Mar  6 07:18 someList.pic.gz\n"
     ]
    }
   ],
   "source": [
    "%%bash\n",
    "ls -lh *.pic *.gz *.npz *.npy"
   ]
  },
  {
   "cell_type": "code",
   "execution_count": 19,
   "metadata": {
    "collapsed": false
   },
   "outputs": [
    {
     "name": "stdout",
     "output_type": "stream",
     "text": [
      "Help on function load in module RingerCore.FileIO:\n",
      "\n",
      "load(filename, decompress='auto')\n",
      "    Loads an object from disk\n",
      "\n",
      "someList loaded from someList.pic:  [1, 2, 3, 4]\n",
      "someList loaded from someList.pic.gz:  [1, 2, 3, 4]\n",
      "array loaded from numpy_file.npy:  [1 2 3 4]\n",
      "array loaded from numpy_filez.npz:  [1 2 3 4]\n",
      "array2 loaded from numpy_filez.npz:  [0 1 2 3 4 5 6 7 8 9]\n",
      "array loaded from numpy_filez_compressed.npz:  [1 2 3 4]\n",
      "array2 loaded from numpy_filez_compressed.npz:  [0 1 2 3 4 5 6 7 8 9]\n"
     ]
    }
   ],
   "source": [
    "from RingerCore.FileIO import load\n",
    "help(load)\n",
    "\n",
    "someList = load('someList.pic')\n",
    "print 'someList loaded from someList.pic: ', someList\n",
    "someList = load('someList.pic.gz')\n",
    "print 'someList loaded from someList.pic.gz: ', someList\n",
    "array = load('numpy_file.npy')\n",
    "print 'array loaded from numpy_file.npy: ', array\n",
    "f = load('numpy_filez.npz')\n",
    "print 'array loaded from numpy_filez.npz: ', f['array']\n",
    "print 'array2 loaded from numpy_filez.npz: ', f['array2']\n",
    "f = load('numpy_filez_compressed.npz')\n",
    "print 'array loaded from numpy_filez_compressed.npz: ', f['array']\n",
    "print 'array2 loaded from numpy_filez_compressed.npz: ', f['array2']"
   ]
  },
  {
   "cell_type": "markdown",
   "metadata": {},
   "source": [
    "Finally, the method `expandFolders` allows recursively expanding system folders to retrieve files within it. "
   ]
  },
  {
   "cell_type": "markdown",
   "metadata": {},
   "source": [
    "### util\n",
    "\n",
    "This module provide a miscellanea of utilities. Some of those are covered here:\n"
   ]
  },
  {
   "cell_type": "markdown",
   "metadata": {},
   "source": [
    "#### EnumStringification\n",
    "\n",
    "This class allows emulating a C enumeration on Python. It also provides easy transformation from string to int or vice versa through the methods `tostring` and `fromstring`. Its `retrieve` method makes sure that the used string or provided int value are valid within the enumeration and returns the corresponding enumeration integer.\n",
    "\n",
    "In the next example we show the usage for a case sensitive EnumStringification:"
   ]
  },
  {
   "cell_type": "code",
   "execution_count": 20,
   "metadata": {
    "collapsed": false
   },
   "outputs": [
    {
     "name": "stdout",
     "output_type": "stream",
     "text": [
      "1\n",
      "1\n",
      "2\n",
      "val2\n",
      "1\n"
     ]
    },
    {
     "ename": "ValueError",
     "evalue": "String (Val2) does not match any of the allowed values [('val1', 1), ('val2', 2)].",
     "output_type": "error",
     "traceback": [
      "\u001b[1;31m---------------------------------------------------------------------------\u001b[0m",
      "\u001b[1;31mValueError\u001b[0m                                Traceback (most recent call last)",
      "\u001b[1;32m<ipython-input-20-17288deedc28>\u001b[0m in \u001b[0;36m<module>\u001b[1;34m()\u001b[0m\n\u001b[0;32m     16\u001b[0m \u001b[1;32mprint\u001b[0m \u001b[0mSomeEnum\u001b[0m\u001b[1;33m.\u001b[0m\u001b[0mfromstring\u001b[0m\u001b[1;33m(\u001b[0m\u001b[1;34m\"val1\"\u001b[0m\u001b[1;33m)\u001b[0m\u001b[1;33m\u001b[0m\u001b[0m\n\u001b[0;32m     17\u001b[0m \u001b[1;33m\u001b[0m\u001b[0m\n\u001b[1;32m---> 18\u001b[1;33m \u001b[0mval\u001b[0m \u001b[1;33m=\u001b[0m \u001b[0mSomeEnum\u001b[0m\u001b[1;33m.\u001b[0m\u001b[0mretrieve\u001b[0m\u001b[1;33m(\u001b[0m\u001b[1;34m\"Val2\"\u001b[0m\u001b[1;33m)\u001b[0m\u001b[1;33m\u001b[0m\u001b[0m\n\u001b[0m",
      "\u001b[1;32m/afs/cern.ch/user/w/wsfreund/Ringer/xAODRingerOfflinePorting/RingerTPFrameWork/RootCoreBin/python/RingerCore/util.pyc\u001b[0m in \u001b[0;36mretrieve\u001b[1;34m(cls, val)\u001b[0m\n\u001b[0;32m     79\u001b[0m       \u001b[1;32mif\u001b[0m \u001b[0mval\u001b[0m \u001b[1;32mis\u001b[0m \u001b[0mNone\u001b[0m\u001b[1;33m:\u001b[0m\u001b[1;33m\u001b[0m\u001b[0m\n\u001b[0;32m     80\u001b[0m           raise ValueError(\"String (%s) does not match any of the allowed values %r.\" % \\\n\u001b[1;32m---> 81\u001b[1;33m               (oldVal, allowedValues))\n\u001b[0m\u001b[0;32m     82\u001b[0m     \u001b[1;32melse\u001b[0m\u001b[1;33m:\u001b[0m\u001b[1;33m\u001b[0m\u001b[0m\n\u001b[0;32m     83\u001b[0m       \u001b[1;32mif\u001b[0m \u001b[1;32mnot\u001b[0m \u001b[0mval\u001b[0m \u001b[1;32min\u001b[0m \u001b[1;33m[\u001b[0m\u001b[0mattr\u001b[0m\u001b[1;33m[\u001b[0m\u001b[1;36m1\u001b[0m\u001b[1;33m]\u001b[0m \u001b[1;32mfor\u001b[0m \u001b[0mattr\u001b[0m \u001b[1;32min\u001b[0m \u001b[0mallowedValues\u001b[0m\u001b[1;33m]\u001b[0m\u001b[1;33m:\u001b[0m\u001b[1;33m\u001b[0m\u001b[0m\n",
      "\u001b[1;31mValueError\u001b[0m: String (Val2) does not match any of the allowed values [('val1', 1), ('val2', 2)]."
     ]
    }
   ],
   "source": [
    "from RingerCore.util import EnumStringification\n",
    "\n",
    "class SomeEnum( EnumStringification ):\n",
    "    val1 = 1\n",
    "    val2 = 2\n",
    "    \n",
    "val = SomeEnum.val1\n",
    "print val\n",
    "val = SomeEnum.retrieve(\"val1\")\n",
    "print val\n",
    "val = SomeEnum.retrieve(\"val2\")\n",
    "print val\n",
    "\n",
    "print SomeEnum.tostring(val)\n",
    "\n",
    "print SomeEnum.fromstring(\"val1\")\n",
    "\n",
    "val = SomeEnum.retrieve(\"Val2\")"
   ]
  },
  {
   "cell_type": "markdown",
   "metadata": {},
   "source": [
    "However, in some cases the case sensitive enumeration may not be the desired behavior. In those cases, set the `_ignoreCase` property to True, as follows:"
   ]
  },
  {
   "cell_type": "code",
   "execution_count": 21,
   "metadata": {
    "collapsed": false
   },
   "outputs": [
    {
     "name": "stdout",
     "output_type": "stream",
     "text": [
      "2\n",
      "vAl2\n"
     ]
    }
   ],
   "source": [
    "from RingerCore.util import EnumStringification\n",
    "\n",
    "class IgnoreCaseEnum( EnumStringification ):\n",
    "    _ignoreCase = True\n",
    "    val1 = 1\n",
    "    vAl2 = 2\n",
    "    \n",
    "val = IgnoreCaseEnum.retrieve(\"Val2\")\n",
    "print val\n",
    "\n",
    "# It is also possible to convert to the defined string spelling, via\n",
    "print IgnoreCaseEnum.tostring(IgnoreCaseEnum.fromstring(\"VAL2\"))"
   ]
  },
  {
   "cell_type": "markdown",
   "metadata": {},
   "source": [
    "#### retrieve_kw and NotSet\n",
    "\n",
    "When used in conjunction, they allow to bypass default configuration retrieved on higher level classes and assure that the  default configuration of the lower level classes will be used. This is quite important to make sure that only one default value will be available in the python code and that it is not needed to change all references to that property through all python codes. Take a look on [`python/CreateData.py`](https://github.com/wsfreund/TuningTools/tree/master/python/CreateData.py) and [`python/FilterEvents.py`](https://github.com/wsfreund/TuningTools/tree/master/python/FilterEvents.py) `__call__` methods to see an usage example.\n"
   ]
  },
  {
   "cell_type": "markdown",
   "metadata": {},
   "source": [
    "#### checkForUnusedVars\n",
    "\n",
    "Used to print remaining keywords on dictionaries. Usually used to display warnings of unused keywords:"
   ]
  },
  {
   "cell_type": "code",
   "execution_count": 22,
   "metadata": {
    "collapsed": false
   },
   "outputs": [
    {
     "name": "stdout",
     "output_type": "stream",
     "text": [
      "WARNING:Obtained not needed parameter: arg0\n",
      "WARNING:Obtained not needed parameter: arg3\n"
     ]
    }
   ],
   "source": [
    "from RingerCore.util import checkForUnusedVars\n",
    "\n",
    "def someFcn(**kw):\n",
    "    arg1 = kw.pop('arg1', None)\n",
    "    arg2 = kw.pop('arg2', None)\n",
    "    checkForUnusedVars(kw)\n",
    "\n",
    "someFcn(arg0=0,arg1=1,arg2=2,arg3=3)"
   ]
  },
  {
   "cell_type": "markdown",
   "metadata": {},
   "source": [
    "#### traverse\n",
    "\n",
    "It is used to loop over the individual objects upon multiple iterable objects. It is also possible to change the looping object by using the returned parent object if it a mutable object. Consider the following examples:"
   ]
  },
  {
   "cell_type": "code",
   "execution_count": 23,
   "metadata": {
    "collapsed": false,
    "run_control": {
     "marked": false
    }
   },
   "outputs": [
    {
     "name": "stdout",
     "output_type": "stream",
     "text": [
      "(1, 0, [1, 2, 3], 0, 3)\n",
      "(2, 1, [1, 2, 3], 0, 3)\n",
      "(3, 2, [1, 2, 3], 0, 3)\n",
      "(2, 0, [2, 3], 0, 3)\n",
      "(3, 1, [2, 3], 0, 3)\n",
      "(3, 0, [3, 4, 5, 6], 0, 3)\n",
      "(4, 1, [3, 4, 5, 6], 0, 3)\n",
      "(5, 2, [3, 4, 5, 6], 0, 3)\n",
      "(6, 3, [3, 4, 5, 6], 0, 3)\n",
      "(4, 0, [4, 7], 0, 4)\n",
      "(7, 1, [4, 7], 0, 4)\n",
      "(6, 0, [6], 0, 3)\n",
      "(7, 2, [[[1, 2, 3], [2, 3], [3, 4, 5, 6]], [[[4, 7], []], [6]], 7], 0, 1)\n"
     ]
    }
   ],
   "source": [
    "# Read every object contained in the iterables (list, tuple) \n",
    "# This could be considered zero-level \"iterable objects\" in the iterable list\n",
    "from RingerCore.util import traverse\n",
    "a = [[[1,2,3],[2,3],[3,4,5,6]],[[[4,7],[]],[6]],7]\n",
    "for obj in traverse(a,(list, tuple),0): print obj\n",
    "# obj is: (holden object, index in parent iterable, parent iterable, level, depth)"
   ]
  },
  {
   "cell_type": "markdown",
   "metadata": {},
   "source": [
    "Looping over the iterables and change their holden values:"
   ]
  },
  {
   "cell_type": "code",
   "execution_count": 24,
   "metadata": {
    "collapsed": false
   },
   "outputs": [
    {
     "data": {
      "text/plain": [
       "[[['Changed', 'Changed', 'Changed'],\n",
       "  ['Changed', 'Changed'],\n",
       "  ['Changed', 'Changed', 'Changed', 'Changed']],\n",
       " [[['Changed', 'Changed'], []], ['Changed']],\n",
       " 'Changed']"
      ]
     },
     "execution_count": 24,
     "metadata": {},
     "output_type": "execute_result"
    }
   ],
   "source": [
    "# Read every object contained in the iterables (list, tuple) \n",
    "# This could be considered zero-level \"iterable objects\" in the iterable list\n",
    "from RingerCore.util import traverse\n",
    "a = [[[1,2,3],[2,3],[3,4,5,6]],[[[4,7],[]],[6]],7]\n",
    "for _, idx, parent, _, _ in traverse(a,(list, tuple),0): parent[idx] = \"Changed\"\n",
    "a"
   ]
  },
  {
   "cell_type": "markdown",
   "metadata": {},
   "source": [
    "Instead looping over all objects in the iterable list, we may want to loop over some iterables keeping some \"depth\":"
   ]
  },
  {
   "cell_type": "code",
   "execution_count": 25,
   "metadata": {
    "collapsed": false
   },
   "outputs": [
    {
     "name": "stdout",
     "output_type": "stream",
     "text": [
      "([1, 2, 3], 0, [[1, 2, 3], [2, 3], [3, 4, 5, 6]], 1, 3)\n",
      "([2, 3], 0, [[1, 2, 3], [2, 3], [3, 4, 5, 6]], 1, 3)\n",
      "([3, 4, 5, 6], 0, [[1, 2, 3], [2, 3], [3, 4, 5, 6]], 1, 3)\n",
      "([4, 7], 0, [[4, 7], []], 1, 4)\n",
      "([6], 0, [[[4, 7], []], [6]], 1, 3)\n",
      "([[[1, 2, 3], [2, 3], [3, 4, 5, 6]], [[[4, 7], []], [6]], 7], 2, None, 1, 1)\n"
     ]
    }
   ],
   "source": [
    "# Read every \"first level\" iterables of type (list, tuple) in the iterable list\n",
    "from RingerCore.util import traverse\n",
    "a = [[[1,2,3],[2,3],[3,4,5,6]],[[[4,7],[]],[6]],7]\n",
    "for obj in traverse(a,(list, tuple),1): print obj"
   ]
  },
  {
   "cell_type": "code",
   "execution_count": 26,
   "metadata": {
    "collapsed": false
   },
   "outputs": [
    {
     "name": "stdout",
     "output_type": "stream",
     "text": [
      "([[1, 2, 3], [2, 3], [3, 4, 5, 6]], 0, [[[1, 2, 3], [2, 3], [3, 4, 5, 6]], [[[4, 7], []], [6]], 7], 2, 2)\n",
      "([[4, 7], []], 0, [[[4, 7], []], [6]], 2, 3)\n",
      "([[[4, 7], []], [6]], 1, [[[1, 2, 3], [2, 3], [3, 4, 5, 6]], [[[4, 7], []], [6]], 7], 2, 2)\n"
     ]
    }
   ],
   "source": [
    "# Read every \"second level\" iterables of type (list, tuple) in the iterable list\n",
    "from RingerCore.util import traverse\n",
    "a = [[[1,2,3],[2,3],[3,4,5,6]],[[[4,7],[]],[6]],7]\n",
    "for obj in traverse(a,(list, tuple),2): print obj"
   ]
  },
  {
   "cell_type": "code",
   "execution_count": 27,
   "metadata": {
    "collapsed": false
   },
   "outputs": [
    {
     "name": "stdout",
     "output_type": "stream",
     "text": [
      "([[[1, 2, 3], [2, 3], [3, 4, 5, 6]], [[[4, 7], []], [6]], 7], 0, None, 3, 1)\n"
     ]
    }
   ],
   "source": [
    "# Read every \"third level\" iterables of type (list, tuple) in the iterable list\n",
    "from RingerCore.util import traverse\n",
    "a = [[[1,2,3],[2,3],[3,4,5,6]],[[[4,7],[]],[6]],7]\n",
    "for obj in traverse(a,(list, tuple),3): print obj"
   ]
  },
  {
   "cell_type": "code",
   "execution_count": 28,
   "metadata": {
    "collapsed": false
   },
   "outputs": [
    {
     "name": "stdout",
     "output_type": "stream",
     "text": [
      "([[[1, 2, 3], [2, 3], [3, 4, 5, 6]], [[[4, 7], []], [6]], 7], 1, None, 4, 1)\n"
     ]
    }
   ],
   "source": [
    "# Read every \"fourth level\" iterables of type (list, tuple) in the iterable list\n",
    "from RingerCore.util import traverse\n",
    "a = [[[1,2,3],[2,3],[3,4,5,6]],[[[4,7],[]],[6]],7]\n",
    "for obj in traverse(a,(list, tuple),4): print obj"
   ]
  },
  {
   "cell_type": "code",
   "execution_count": 29,
   "metadata": {
    "collapsed": false
   },
   "outputs": [],
   "source": [
    "# Read every \"fifth level\" iterables of type (list, tuple) in the iterable list\n",
    "from RingerCore.util import traverse\n",
    "a = [[[1,2,3],[2,3],[3,4,5,6]],[[[4,7],[]],[6]],7]\n",
    "for obj in traverse(a,(list, tuple),5): print obj"
   ]
  },
  {
   "cell_type": "markdown",
   "metadata": {
    "hide_input": true
   },
   "source": [
    "## C++ provided functionalities\n",
    "\n",
    "The most important C++ functionality provided is available in the [`RingerCore/MsgStream.h`](https://github.com/wsfreund/RingerCore/blob/master/RingerCore/MsgStream.h) file. It is based on Athena framework's MsgStream, but does not need the Gaudi infrastructure. The name was changed to `MsgStreamMirror` as it cannot have the same name from the Asg class (otherwise it would generate dictionary conflicts when running PyROOT).\n",
    "\n",
    "It also provides the macros which emulate the same behavior from Athena:\n",
    "\n",
    "```\n",
    "MSG_DEBUG(msg)\n",
    "MSG_INFO(msg)\n",
    "MSG_WARNING(msg)\n",
    "MSG_ERROR(msg)\n",
    "MSG_FATAL(msg)\n",
    "```\n",
    "\n",
    "Finally, in order to make those macros available on your classes, make sure them inherit from `MsgService`, also defined in this file. In case classes inheriting from classes that inherit from `MsgService` are needed, and it is wanted that the messaging system display the most derived class name, overwrite the `IMsgService` constructor to use the most inherited class name. E.g.:\n",
    "\n",
    "```C++\n",
    "/** \n",
    " * Supose MsgService -> A -> B \n",
    " * then:\n",
    " **/\n",
    "\n",
    "class A : public MsgService\n",
    "{\n",
    "    A()\n",
    "      : IMsgService(\"A\"),\n",
    "        MsgService(MSG::INFO)\n",
    "      {;}\n",
    "};\n",
    "\n",
    "class B : public A\n",
    "{\n",
    "    B()\n",
    "      : IMsgService(\"B\"),\n",
    "        A()\n",
    "      {;}\n",
    "};\n",
    "\n",
    "```"
   ]
  },
  {
   "cell_type": "markdown",
   "metadata": {},
   "source": [
    "<script type=\"text/javascript\">\n",
    "    show=true;\n",
    "    function toggle(){\n",
    "        if (show){\n",
    "            $('div.input').hide();\n",
    "        }else{\n",
    "            $('div.input').show();\n",
    "        }\n",
    "        show = !show\n",
    "    }\n",
    "$.getScript('https://kmahelona.github.io/ipython_notebook_goodies/ipython_notebook_toc.js')\n",
    "</script>\n",
    "<a href=\"javascript:toggle()\" target=\"_self\"></a>"
   ]
  }
 ],
 "metadata": {
  "hide_input": false,
  "kernelspec": {
   "display_name": "Python 2",
   "language": "python",
   "name": "python2"
  },
  "language_info": {
   "codemirror_mode": {
    "name": "ipython",
    "version": 2
   },
   "file_extension": ".py",
   "mimetype": "text/x-python",
   "name": "python",
   "nbconvert_exporter": "python",
   "pygments_lexer": "ipython2",
   "version": "2.7.4"
  },
  "latex_envs": {
   "bibliofile": "biblio.bib",
   "cite_by": "apalike",
   "current_citInitial": 1,
   "eqLabelWithNumbers": true,
   "eqNumInitial": 0
  }
 },
 "nbformat": 4,
 "nbformat_minor": 0
}
