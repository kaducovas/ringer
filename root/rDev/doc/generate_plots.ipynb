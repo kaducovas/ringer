{
 "cells": [
  {
   "cell_type": "code",
   "execution_count": 2,
   "metadata": {
    "collapsed": false
   },
   "outputs": [
    {
     "name": "stdout",
     "output_type": "stream",
     "text": [
      "\n",
      "Applying ATLAS style settings...\n"
     ]
    }
   ],
   "source": [
    "from TrigEgammaPlotTools.EfficiencyTool import efficiencyTool"
   ]
  },
  {
   "cell_type": "code",
   "execution_count": 3,
   "metadata": {
    "collapsed": true
   },
   "outputs": [],
   "source": [
    "basepath = '/Users/victor/Private/cern/data/Online/mc15_201609XX/monitoring'\n",
    "data = 'user.jodafons.mc15_13TeV.361106.PowhegPythia8EvtGen_AZNLOCTEQ6L1_Zee.merge.AOD.e3601_s2876_r7917_r7676.mon.trigPB.p300_GLOBAL.root'\n",
    "fullpath = basepath + '/' + data"
   ]
  },
  {
   "cell_type": "code",
   "execution_count": 4,
   "metadata": {
    "collapsed": true
   },
   "outputs": [],
   "source": [
    "from RingerCore.Logger import Logger, LoggingLevel\n",
    "mainLogger = Logger.getModuleLogger(__name__)"
   ]
  },
  {
   "cell_type": "code",
   "execution_count": 5,
   "metadata": {
    "collapsed": true
   },
   "outputs": [],
   "source": [
    "mainLogger.info('Testing...')"
   ]
  },
  {
   "cell_type": "code",
   "execution_count": 6,
   "metadata": {
    "collapsed": true
   },
   "outputs": [],
   "source": [
    "triggers = ['HLT_e28_lhtight_nod0_ringer_iloose', 'HLT_e28_lhtight_nod0_iloose']\n",
    "osufix = triggers[1].replace('HLT_','')"
   ]
  },
  {
   "cell_type": "code",
   "execution_count": 7,
   "metadata": {
    "collapsed": false
   },
   "outputs": [
    {
     "name": "stdout",
     "output_type": "stream",
     "text": [
      "['HLT_e28_lhtight_nod0_ringer_iloose', 'HLT_e28_lhtight_nod0_iloose']\n"
     ]
    }
   ],
   "source": [
    "print triggers"
   ]
  },
  {
   "cell_type": "code",
   "execution_count": 8,
   "metadata": {
    "collapsed": false
   },
   "outputs": [],
   "source": [
    "# plots\n",
    "efficiencyTool(     fullpath,  triggers,\n",
    "                    basepath         = 'HLT/Egamma/Expert',\n",
    "                    toolname         = 'EmulationTool',\n",
    "                    inputname        = 'HLT/',\n",
    "                    outputname       = 'HLT/match_',\n",
    "                    ylimits          = [ (0.3, 1.1) , (0.28, 1.1), (0.8, 1.0) ],\n",
    "                    ylabel           = 'Trigger Efficiency',\n",
    "                    title            = 'run 361106',\n",
    "                    legend_header    = 'HLT trigger',\n",
    "                    legend_prefix    = 'T&P Z#rightarrowee, ',\n",
    "                    region_label     = '#scale[.8]{#||{#eta}<1.37 & 1.52<#||{#eta}<2.47}',\n",
    "                    oname            = 'plot_mc15_13TeV_361106.probes.L1i2HLTo.'+osufix,\n",
    "                    atlaslabel       = 'Preliminary, MC15c',\n",
    "                    )"
   ]
  },
  {
   "cell_type": "code",
   "execution_count": 12,
   "metadata": {
    "collapsed": false
   },
   "outputs": [],
   "source": [
    "efficiencyTool.gen_table(fullpath, triggers, toolname = 'EmulationTool')"
   ]
  },
  {
   "cell_type": "code",
   "execution_count": null,
   "metadata": {
    "collapsed": true
   },
   "outputs": [],
   "source": []
  },
  {
   "cell_type": "code",
   "execution_count": null,
   "metadata": {
    "collapsed": true
   },
   "outputs": [],
   "source": []
  }
 ],
 "metadata": {
  "kernelspec": {
   "display_name": "Python 2",
   "language": "python",
   "name": "python2"
  },
  "language_info": {
   "codemirror_mode": {
    "name": "ipython",
    "version": 2
   },
   "file_extension": ".py",
   "mimetype": "text/x-python",
   "name": "python",
   "nbconvert_exporter": "python",
   "pygments_lexer": "ipython2",
   "version": "2.7.6"
  }
 },
 "nbformat": 4,
 "nbformat_minor": 1
}
